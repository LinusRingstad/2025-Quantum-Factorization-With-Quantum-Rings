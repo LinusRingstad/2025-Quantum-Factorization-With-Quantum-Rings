{
  "cells": [
    {
      "cell_type": "markdown",
      "id": "255d7590-bf87-47d8-b0c6-ae67aef1403c",
      "metadata": {
        "id": "255d7590-bf87-47d8-b0c6-ae67aef1403c"
      },
      "source": [
        "See how to use Shor's algorithm to factor 15 here:    <b><a href=\"https://portal.quantumrings.com/doc/Shors.html\">Shor15</a></b>"
      ]
    },
    {
      "cell_type": "markdown",
      "id": "546dce63-062e-49d0-922a-ab233b397a70",
      "metadata": {
        "id": "546dce63-062e-49d0-922a-ab233b397a70"
      },
      "source": [
        "<i><b>Source code to factorize 15</b></i>"
      ]
    },
    {
      "cell_type": "markdown",
      "id": "85955e61-324f-4412-9bac-e6dd69699824",
      "metadata": {
        "id": "85955e61-324f-4412-9bac-e6dd69699824"
      },
      "source": [
        "Note: Be sure to use your API token and your account name."
      ]
    },
    {
      "cell_type": "markdown",
      "id": "ef5152de-a79d-4a8e-9870-77a2d13e265e",
      "metadata": {
        "id": "ef5152de-a79d-4a8e-9870-77a2d13e265e"
      },
      "source": [
        "Step 1. Import the required modules and obtain the backend"
      ]
    },
    {
      "cell_type": "code",
      "source": [
        "pip install QuantumRingsLib"
      ],
      "metadata": {
        "id": "YXnoCu95uw90",
        "outputId": "1923fda9-394f-4a54-eab3-eba98edb2e85",
        "colab": {
          "base_uri": "https://localhost:8080/"
        }
      },
      "id": "YXnoCu95uw90",
      "execution_count": 3,
      "outputs": [
        {
          "output_type": "stream",
          "name": "stdout",
          "text": [
            "Collecting QuantumRingsLib\n",
            "  Downloading QuantumRingsLib-0.9.11-cp311-cp311-manylinux_2_34_x86_64.whl.metadata (21 kB)\n",
            "Downloading QuantumRingsLib-0.9.11-cp311-cp311-manylinux_2_34_x86_64.whl (1.5 MB)\n",
            "\u001b[?25l   \u001b[90m━━━━━━━━━━━━━━━━━━━━━━━━━━━━━━━━━━━━━━━━\u001b[0m \u001b[32m0.0/1.5 MB\u001b[0m \u001b[31m?\u001b[0m eta \u001b[36m-:--:--\u001b[0m\r\u001b[2K   \u001b[90m━━━━━━━━━━━━━━━━━━━━━━━━━━━━━━━━━━━━━━━━\u001b[0m \u001b[32m1.5/1.5 MB\u001b[0m \u001b[31m55.8 MB/s\u001b[0m eta \u001b[36m0:00:00\u001b[0m\n",
            "\u001b[?25hInstalling collected packages: QuantumRingsLib\n",
            "Successfully installed QuantumRingsLib-0.9.11\n"
          ]
        }
      ]
    },
    {
      "cell_type": "code",
      "execution_count": 4,
      "id": "1098cc1a-6195-4fb4-87bb-9001779b002c",
      "metadata": {
        "id": "1098cc1a-6195-4fb4-87bb-9001779b002c",
        "outputId": "962731ab-690b-4623-e52c-14754e6fa1e9",
        "colab": {
          "base_uri": "https://localhost:8080/"
        }
      },
      "outputs": [
        {
          "output_type": "execute_result",
          "data": {
            "text/plain": [
              "{'name': 'linussr2@illinois.edu',\n",
              " 'token': 'rings-200.tJPW6hubhBeKcISboiTcn9C0fpfSVlV7',\n",
              " 'max_qubits': '200'}"
            ]
          },
          "metadata": {},
          "execution_count": 4
        }
      ],
      "source": [
        "import QuantumRingsLib\n",
        "from QuantumRingsLib import QuantumRegister, AncillaRegister, ClassicalRegister, QuantumCircuit\n",
        "from QuantumRingsLib import QuantumRingsProvider\n",
        "from QuantumRingsLib import job_monitor\n",
        "from QuantumRingsLib import JobStatus\n",
        "from matplotlib import pyplot as plt\n",
        "import numpy as np\n",
        "import math\n",
        "\n",
        "\n",
        "provider = QuantumRingsProvider(\n",
        "    token='rings-200.tJPW6hubhBeKcISboiTcn9C0fpfSVlV7',\n",
        "    name='linussr2@illinois.edu'\n",
        ")\n",
        "backend = provider.get_backend(\"scarlet_quantum_rings\")\n",
        "shots = 1024\n",
        "\n",
        "provider.active_account()"
      ]
    },
    {
      "cell_type": "markdown",
      "id": "f92608ce-86bd-4760-bc1c-ca7e722ae280",
      "metadata": {
        "id": "f92608ce-86bd-4760-bc1c-ca7e722ae280"
      },
      "source": [
        "Step 2. Define the core methods"
      ]
    },
    {
      "cell_type": "code",
      "execution_count": 5,
      "id": "f32086a1-a980-4d19-8f14-0adcaae9c9c9",
      "metadata": {
        "id": "f32086a1-a980-4d19-8f14-0adcaae9c9c9"
      },
      "outputs": [],
      "source": [
        "def iqft_cct(qc, b, n):\n",
        "    \"\"\"\n",
        "    The inverse QFT circuit\n",
        "\n",
        "    Args:\n",
        "\n",
        "        qc (QuantumCircuit):\n",
        "                The quantum circuit\n",
        "\n",
        "        b (QuantumRegister):\n",
        "                The target register\n",
        "\n",
        "        n (int):\n",
        "                The number of qubits in the registers to use\n",
        "\n",
        "    Returns:\n",
        "        None\n",
        "\n",
        "    \"\"\"\n",
        "\n",
        "    for i in range (n):\n",
        "        for j in range (1, i+1):\n",
        "            # for inverse transform, we have to use negative angles\n",
        "            qc.cu1(  -math.pi / 2** ( i -j + 1 ), b[j - 1], b[i])\n",
        "        # the H transform should be done after the rotations\n",
        "        qc.h(b[i])\n",
        "    qc.barrier()\n",
        "    return\n",
        "\n",
        "def plot_histogram (counts, title=\"\"):\n",
        "    \"\"\"\n",
        "    Plots the histogram of the counts\n",
        "\n",
        "    Args:\n",
        "\n",
        "        counts (dict):\n",
        "            The dictionary containing the counts of states\n",
        "\n",
        "        titles (str):\n",
        "            A title for the graph.\n",
        "\n",
        "    Returns:\n",
        "        None\n",
        "\n",
        "    \"\"\"\n",
        "    fig, ax = plt.subplots(figsize =(10, 7))\n",
        "    plt.xlabel(\"States\")\n",
        "    plt.ylabel(\"Counts\")\n",
        "    mylist = [key for key, val in counts.items() for _ in range(val)]\n",
        "\n",
        "    unique, inverse = np.unique(mylist, return_inverse=True)\n",
        "    bin_counts = np.bincount(inverse)\n",
        "\n",
        "    plt.bar(unique, bin_counts)\n",
        "\n",
        "    maxFreq = max(counts.values())\n",
        "    plt.ylim(ymax=np.ceil(maxFreq / 10) * 10 if maxFreq % 10 else maxFreq + 10)\n",
        "    # Show plot\n",
        "    plt.title(title)\n",
        "    plt.show()\n",
        "    return"
      ]
    },
    {
      "cell_type": "markdown",
      "id": "2f211c13-04db-4f78-b700-5bde24875ab8",
      "metadata": {
        "id": "2f211c13-04db-4f78-b700-5bde24875ab8"
      },
      "source": [
        "Step 3. Perform the algorithm"
      ]
    },
    {
      "cell_type": "code",
      "execution_count": 47,
      "id": "90af8eb2-e56e-46ff-baf2-fed0c08306f9",
      "metadata": {
        "id": "90af8eb2-e56e-46ff-baf2-fed0c08306f9",
        "outputId": "a35531c0-5bdb-45ed-8f34-805f378b1108",
        "colab": {
          "base_uri": "https://localhost:8080/",
          "height": 110
        }
      },
      "outputs": [
        {
          "output_type": "error",
          "ename": "IndentationError",
          "evalue": "expected an indented block after function definition on line 131 (<ipython-input-47-0e1307b405fa>, line 144)",
          "traceback": [
            "\u001b[0;36m  File \u001b[0;32m\"<ipython-input-47-0e1307b405fa>\"\u001b[0;36m, line \u001b[0;32m144\u001b[0m\n\u001b[0;31m    qc.barrier()\u001b[0m\n\u001b[0m    ^\u001b[0m\n\u001b[0;31mIndentationError\u001b[0m\u001b[0;31m:\u001b[0m expected an indented block after function definition on line 131\n"
          ]
        }
      ],
      "source": [
        "# Shor’s algorithm to factorize 15 using 7^x mod 15.\n",
        "numberofqubits = 14\n",
        "shots = 1024\n",
        "\n",
        "q = QuantumRegister(numberofqubits , 'q')\n",
        "c = ClassicalRegister(4 , 'c')\n",
        "qc = QuantumCircuit(q, c)\n",
        "\n",
        "# Initialize source and target registers\n",
        "#qc.h(0)\n",
        "#qc.h(1)\n",
        "#qc.h(2)\n",
        "#qc.x(6)\n",
        "#qc.barrier()\n",
        "\n",
        "# Modular exponentiation 7^x mod 15\n",
        "\n",
        "def fcarry(i,j,k,l):\n",
        "  qc.ccx(q[j],q[k],q[l])\n",
        "  qc.cx(q[j],q[k])\n",
        "  qc.ccx(q[i],q[k],q[l])\n",
        "\n",
        "def bcarry(i,j,k,l):\n",
        "  qc.ccx(q[i],q[k],q[l])\n",
        "  qc.cx(q[j],q[k])\n",
        "  qc.ccx(q[j],q[k],q[l])\n",
        "\n",
        "def fsum(i,j,k):\n",
        "  qc.cx(q[j],q[k])\n",
        "  qc.cx(q[i],q[k])\n",
        "\n",
        "def bsum(i,j,k):\n",
        "  qc.cx(q[i],q[k])\n",
        "  qc.cx(q[j],q[k])\n",
        "\n",
        "def f_adder(a0,a1,a2,b0,b1,b2,b3,c0,c1,c2):\n",
        "  fcarry(c0,a0,b0,c1)\n",
        "  fcarry(c1,a1,b1,c2)\n",
        "  fcarry(c2,a2,b2,b3)\n",
        "  qc.cx(q[a2],q[b2])\n",
        "  fsum(c2,a2,b2)\n",
        "  bcarry(c1,a1,b1,c2)\n",
        "  fsum(c1,a1,b1)\n",
        "  bcarry(c0,a0,b0,c1)\n",
        "  fsum(c0,a0,b0)\n",
        "\n",
        "def b_adder(a0,a1,a2,b0,b1,b2,b3,c0,c1,c2):\n",
        "  bsum(c0,a0,b0)\n",
        "  fcarry(c0,a0,b0,c1)\n",
        "  bsum(c1,a1,b1)\n",
        "  fcarry(c1,a1,b1,c2)\n",
        "  bsum(c2,a2,b2)\n",
        "  qc.cx(q[a2],q[b2])\n",
        "  bcarry(c2,a2,b2,b3)\n",
        "  bcarry(c1,a1,b1,c2)\n",
        "  bcarry(c0,a0,b0,c1)\n",
        "\n",
        "def f_adder_mod(a0,a1,a2,b0,b1,b2,b3,c0,c1,c2,n0,n1,n2,t0):\n",
        "  f_adder(a0,a1,a2,b0,b1,b2,b3,c0,c1,c2)\n",
        "  qc.swap(q[a0],q[n0])\n",
        "  qc.swap(q[a1],q[n1])\n",
        "  qc.swap(q[a2],q[n2])\n",
        "  b_adder(a0,a1,a2,b0,b1,b2,b3,c0,c1,c2)\n",
        "\n",
        "  qc.x(q[b3])\n",
        "  qc.cx(q[b3],q[t0])\n",
        "  qc.x(q[b3])\n",
        "\n",
        "  qc.cx(q[a2],q[t0])\n",
        "  qc.cx(q[a0],q[t0])\n",
        "  f_adder(a0,a1,a2,b0,b1,b2,b3,c0,c1,c2)\n",
        "  qc.cx(q[a0],q[t0])\n",
        "  qc.cx(q[a2],q[t0])\n",
        "\n",
        "  qc.swap(q[a0],q[n0])\n",
        "  qc.swap(q[a1],q[n1])\n",
        "  qc.swap(q[a2],q[n2])\n",
        "\n",
        "  b_adder(a0,a1,a2,b0,b1,b2,b3,c0,c1,c2)\n",
        "  qc.cx(q[b3],q[t0])\n",
        "  f_adder(a0,a1,a2,b0,b1,b2,b3,c0,c1,c2)\n",
        "\n",
        "def b_adder_mod(a0,a1,a2,b0,b1,b2,b3,c0,c1,c2,n0,n1,n2,t0):\n",
        "  b_adder(a0,a1,a2,b0,b1,b2,b3,c0,c1,c2)\n",
        "  qc.cx(q[b3],q[t0])\n",
        "  f_adder(a0,a1,a2,b0,b1,b2,b3,c0,c1,c2)\n",
        "\n",
        "  qc.swap(q[a0],q[n0])\n",
        "  qc.swap(q[a1],q[n1])\n",
        "  qc.swap(q[a2],q[n2])\n",
        "\n",
        "  qc.cx(q[a2],q[t0])\n",
        "  qc.cx(q[a0],q[t0])\n",
        "  b_adder(a0,a1,a2,b0,b1,b2,b3,c0,c1,c2)\n",
        "  qc.cx(q[a0],q[t0])\n",
        "  qc.cx(q[a2],q[t0])\n",
        "\n",
        "  qc.x(q[b3])\n",
        "  qc.cx(q[b3],q[t0])\n",
        "  qc.x(q[b3])\n",
        "\n",
        "  f_adder(a0,a1,a2,b0,b1,b2,b3,c0,c1,c2)\n",
        "  qc.swap(q[a0],q[n0])\n",
        "  qc.swap(q[a1],q[n1])\n",
        "  qc.swap(q[a2],q[n2])\n",
        "  b_adder(a0,a1,a2,b0,b1,b2,b3,c0,c1,c2)\n",
        "\n",
        "def f_mult_mod(c0,z0,z1,z2,a0,a1,a2,b0,b1,b2,b3,c0,c1,c2):\n",
        "  qc.cxx(q[c0],q[z0],q[a0])\n",
        "  qc.cxx(q[c0],q[z0],q[a1])\n",
        "  f_adder_mod(a0,a1,a2,b0,b1,b2,b3,c0,c1,c2,n0,n1,n2,t0)\n",
        "  qc.cxx(q[c0],q[z0],q[a1])\n",
        "  qc.cxx(q[c0],q[z0],q[a0])\n",
        "\n",
        "  qc.cxx(q[c0],q[z1],q[a0])\n",
        "  f_adder_mod(a0,a1,a2,b0,b1,b2,b3,c0,c1,c2,n0,n1,n2,t0)\n",
        "  qc.cxx(q[c0],q[z1],q[a0])\n",
        "\n",
        "  qc.cxx(q[c0],q[z2],q[a0])\n",
        "  f_adder_mod(a0,a1,a2,b0,b1,b2,b3,c0,c1,c2,n0,n1,n2,t0)\n",
        "  qc.cxx(q[c0],q[z2],q[a0])\n",
        "\n",
        "  qc.x(q[c0])\n",
        "  qc.cxx(q[c0],q[z0],q[b0])\n",
        "  qc.cxx(q[c0],q[z1],q[b1])\n",
        "  qc.cxx(q[c0],q[z2],q[b2])\n",
        "  qc.x(q[c0])\n",
        "\n",
        "def b_mult_mod(c0,z0,z1,z2,a0,a1,a2,b0,b1,b2,b3,c0,c1,c2):\n",
        "  qc.x(q[c0])\n",
        "  qc.cxx(q[c0],q[z0],q[b0])\n",
        "  qc.cxx(q[c0],q[z1],q[b1])\n",
        "  qc.cxx(q[c0],q[z2],q[b2])\n",
        "  qc.x(q[c0])\n",
        "\n",
        "  qc.cxx(q[c0],q[z2],q[a0])\n",
        "  b_adder_mod(a0,a1,a2,b0,b1,b2,b3,c0,c1,c2,n0,n1,n2,t0)\n",
        "  qc.cxx(q[c0],q[z2],q[a0])\n",
        "\n",
        "  qc.cxx(q[c0],q[z1],q[a0])\n",
        "  b_adder_mod(a0,a1,a2,b0,b1,b2,b3,c0,c1,c2,n0,n1,n2,t0)\n",
        "  qc.cxx(q[c0],q[z1],q[a0])\n",
        "\n",
        "  qc.cxx(q[c0],q[z0],q[a0])\n",
        "  qc.cxx(q[c0],q[z0],q[a1])\n",
        "  b_adder_mod(a0,a1,a2,b0,b1,b2,b3,c0,c1,c2,n0,n1,n2,t0)\n",
        "  qc.cxx(q[c0],q[z0],q[a1])\n",
        "  qc.cxx(q[c0],q[z0],q[a0])\n",
        "\n",
        "def mod_exp(x0,x1,x2,z0,z1,z2,a0,a1,a2,b0,b1,b2,b3,c0,c1,c2):\n",
        "\n",
        "  f_mult_mod(x0,z0,z1,z2,a0,a1,a2,b0,b1,b2,b3,c0,c1,c2)\n",
        "  qc.cswap(q[x0],q[z0],q[b0])\n",
        "  qc.cswap(q[x0],q[z1],q[b1])\n",
        "  qc.cswap(q[x0],q[z1],q[b1])\n",
        "  b_mult_mod(x0,z0,z1,z2,a0,a1,a2,b0,b1,b2,b3,c0,c1,c2)\n",
        "\n",
        "  f_mult_mod(x1,z0,z1,z2,a0,a1,a2,b0,b1,b2,b3,c0,c1,c2)\n",
        "  qc.cswap(q[x1],q[z0],q[b0])\n",
        "  qc.cswap(q[x1],q[z1],q[b1])\n",
        "  qc.cswap(q[x1],q[z1],q[b1])\n",
        "  b_mult_mod(x1,z0,z1,z2,a0,a1,a2,b0,b1,b2,b3,c0,c1,c2)\n",
        "\n",
        "  f_mult_mod(x2,z0,z1,z2,a0,a1,a2,b0,b1,b2,b3,c0,c1,c2)\n",
        "  qc.cswap(q[x2],q[z0],q[b0])\n",
        "  qc.cswap(q[x2],q[z1],q[b1])\n",
        "  qc.cswap(q[x2],q[z1],q[b1])\n",
        "  b_mult_mod(x2,z0,z1,z2,a0,a1,a2,b0,b1,b2,b3,c0,c1,c2)\n",
        "\n",
        "\n",
        "\n",
        "\n",
        "\n",
        "\n",
        "\n",
        "\n",
        "\n",
        "#qc.cx(q[2],q[4] )\n",
        "#qc.cx(q[2],q[5] )\n",
        "#qc.cx(q[6],q[4] )\n",
        "#qc.ccx(q[1],q[5],q[3] )\n",
        "#qc.cx(q[3],q[5] )\n",
        "#qc.ccx(q[1],q[4],q[6] )\n",
        "#qc.cx(q[6],q[4] ) #\n",
        "\n",
        "\n",
        "\n",
        "\n",
        "qc.barrier()\n",
        "\n",
        "# IQFT. Refer to implementation from earlier examples\n",
        "#iqft_cct (qc, q, 3)\n",
        "\n",
        "# Measure\n",
        "qc.measure(q[0], c[0])\n",
        "qc.measure(q[1], c[1])\n",
        "qc.measure(q[2], c[2])\n",
        "\n",
        "# Draw the circuit\n",
        "qc.draw('mpl')"
      ]
    },
    {
      "cell_type": "markdown",
      "id": "72783cb3-a464-4a9c-98ac-9ad533f53222",
      "metadata": {
        "id": "72783cb3-a464-4a9c-98ac-9ad533f53222"
      },
      "source": [
        "The circuit to factor 15 shown above."
      ]
    },
    {
      "cell_type": "code",
      "execution_count": 26,
      "id": "1923d677-ed19-4892-a44e-66f05fca3406",
      "metadata": {
        "id": "1923d677-ed19-4892-a44e-66f05fca3406",
        "outputId": "eaddb752-e25c-41eb-fe5e-929f22bc9ad1",
        "colab": {
          "base_uri": "https://localhost:8080/",
          "height": 674
        }
      },
      "outputs": [
        {
          "output_type": "stream",
          "name": "stdout",
          "text": [
            "Job Running\n",
            "Job Done.\n",
            "Ending Job Monitor\n"
          ]
        },
        {
          "output_type": "display_data",
          "data": {
            "text/plain": [
              "<Figure size 1000x700 with 1 Axes>"
            ],
            "image/png": "[encoded data removed]"
          },
          "metadata": {}
        }
      ],
      "source": [
        "# Execute the circuit\n",
        "job = backend.run(qc, shots=shots)\n",
        "job_monitor(job)\n",
        "result = job.result()\n",
        "counts = result.get_counts()\n",
        "\n",
        "# visualize\n",
        "plot_histogram(counts)\n",
        "r = len(counts)\n",
        "\n",
        "#clean up\n",
        "del q, c, qc\n",
        "del result\n",
        "del job"
      ]
    },
    {
      "cell_type": "code",
      "source": [
        "#calculate factors from Euclidian algo\n",
        "\n",
        "\n",
        "def gcd(a, b):\n",
        "    if a == 0:\n",
        "        return b\n",
        "    return gcd(b % a, a)\n",
        "\n",
        "fac1 = gcd(7**(r/2)-1,15)\n",
        "fac2 = gcd(7**(r/2)+1,15)\n",
        "print(str(fac1)+' , '+str(fac2))"
      ],
      "metadata": {
        "id": "nb8rh08K3icr",
        "outputId": "6bc7d015-6371-43a9-e635-f5a0eee67b84",
        "colab": {
          "base_uri": "https://localhost:8080/"
        }
      },
      "id": "nb8rh08K3icr",
      "execution_count": 37,
      "outputs": [
        {
          "output_type": "stream",
          "name": "stdout",
          "text": [
            "3.0 , 5.0\n"
          ]
        }
      ]
    },
    {
      "cell_type": "markdown",
      "id": "d69fcca9-6545-4f8a-9758-0865e240a57e",
      "metadata": {
        "id": "d69fcca9-6545-4f8a-9758-0865e240a57e"
      },
      "source": [
        "A plot of the execution results is shown above. Compare this with the calculated values."
      ]
    },
    {
      "cell_type": "markdown",
      "id": "f4545dfd-da08-4ac1-87c9-b426a92de748",
      "metadata": {
        "id": "f4545dfd-da08-4ac1-87c9-b426a92de748"
      },
      "source": [
        "Footnotes\n",
        "\n",
        "[1] This section is based on [10], [14], and [16].\n",
        "\n",
        "[2] https://research.ibm.com/blog/factor-15-shors-algorithm\n",
        "\n",
        "[3] https://en.wikipedia.org/wiki/Integer_factorization_records#Records_for_efforts_by_quantum_computers"
      ]
    }
  ],
  "metadata": {
    "kernelspec": {
      "display_name": "Python 3 (ipykernel)",
      "language": "python",
      "name": "python3"
    },
    "language_info": {
      "codemirror_mode": {
        "name": "ipython",
        "version": 3
      },
      "file_extension": ".py",
      "mimetype": "text/x-python",
      "name": "python",
      "nbconvert_exporter": "python",
      "pygments_lexer": "ipython3",
      "version": "3.11.11"
    },
    "colab": {
      "provenance": []
    }
  },
  "nbformat": 4,
  "nbformat_minor": 5
}